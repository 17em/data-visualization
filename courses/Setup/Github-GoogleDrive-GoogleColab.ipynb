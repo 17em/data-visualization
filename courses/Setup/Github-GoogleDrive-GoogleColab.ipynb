{
  "nbformat": 4,
  "nbformat_minor": 0,
  "metadata": {
    "colab": {
      "name": "Github-GoogleDrive-GoogleColab.ipynb",
      "provenance": [],
      "collapsed_sections": [],
      "toc_visible": true,
      "mount_file_id": "https://github.com/visiont3lab/data-visualization/blob/master/courses/Setup/Github-GoogleDrive-GoogleColab.ipynb",
      "authorship_tag": "ABX9TyOYvcwgQdGm0syg1tSDO39Z",
      "include_colab_link": true
    },
    "kernelspec": {
      "name": "python3",
      "display_name": "Python 3"
    }
  },
  "cells": [
    {
      "cell_type": "markdown",
      "metadata": {
        "id": "view-in-github",
        "colab_type": "text"
      },
      "source": [
        "<a href=\"https://colab.research.google.com/github/visiont3lab/data-visualization/blob/master/courses/Setup/Github-GoogleDrive-GoogleColab.ipynb\" target=\"_parent\"><img src=\"https://colab.research.google.com/assets/colab-badge.svg\" alt=\"Open In Colab\"/></a>"
      ]
    },
    {
      "cell_type": "markdown",
      "metadata": {
        "id": "0b68U9SEpVnO",
        "colab_type": "text"
      },
      "source": [
        "## Github-GoogleDrive-GoogleColab Setup\n",
        "\n",
        "0. GoogleDrive: Andare su Google Drive creasi una cartella chiamata \"data_visualization\". Create un nuovo google colab file oppure aprite un Google-Colab del corso [data-visualization](https://github.com/visiont3lab/data-visualization), salvatelo e spostatelo in questa cartella.\n",
        "1. Github: Andare su [Github](https://github.com/) e creare un account \n",
        "2. Github: Creare un repository chiamato \"seaborn-data-visualization\" e creare un README.md di default.\n",
        "3. GoogleColab: Editare il seguent notebook aggiugendo codice o commenti.\n",
        "4. GoogleColab: Salvare il contenuto su Git (Save a Copy in Github)\n",
        "5. Github: Creare un file index.html con scritto dentro \"Test\" . Questa sarà la nostra pagine web di partenza. Più informazioni a  [Github Web Pages](https://pages.github.com/).\n",
        "6. Github: Vai su settings e cerchimao \"Github Pages\". Lo abilitiamo scegliendo \"master-branch. Possiamo anche scegliere un tema nella sezione \"Theme Choser\".\n",
        "Dovrebbe essere comparso sotto \"Github Pages\"\n",
        "> Your site is ready to be published at https://visiont3lab.github.io/seaborn-data-visualization/.\n",
        "7. GoogleColab: Convertire notebook (ipynb) in html e scaricalo localmente\n",
        "8. Github: Caricare il file html scaricato su Github. Importare è che il nome del file sia \"index.html\" "
      ]
    },
    {
      "cell_type": "code",
      "metadata": {
        "id": "ccOQYILUDccr",
        "colab_type": "code",
        "colab": {}
      },
      "source": [
        "# Requisiti per convertire il notebook in pdf\n",
        "!apt-get install texlive texlive-xetex texlive-latex-extra pandoc\n",
        "!pip install pypandoc"
      ],
      "execution_count": 0,
      "outputs": []
    },
    {
      "cell_type": "markdown",
      "metadata": {
        "id": "GO3mNLjE5UwK",
        "colab_type": "text"
      },
      "source": [
        "## Convertire un notebook (ipynb) contenuto in un repository GIT (Github) in html"
      ]
    },
    {
      "cell_type": "code",
      "metadata": {
        "id": "T4i4vq2x4Bj-",
        "colab_type": "code",
        "outputId": "8b62c7c3-0b46-48b8-8c24-761b7e34b1ca",
        "colab": {
          "base_uri": "https://localhost:8080/",
          "height": 122
        }
      },
      "source": [
        "!git clone https://github.com/visiont3lab/test-data-visualization.git"
      ],
      "execution_count": 0,
      "outputs": [
        {
          "output_type": "stream",
          "text": [
            "Cloning into 'seaborn-data-visualization'...\n",
            "remote: Enumerating objects: 9, done.\u001b[K\n",
            "remote: Counting objects: 100% (9/9), done.\u001b[K\n",
            "remote: Compressing objects: 100% (7/7), done.\u001b[K\n",
            "remote: Total 9 (delta 1), reused 0 (delta 0), pack-reused 0\u001b[K\n",
            "Unpacking objects: 100% (9/9), done.\n"
          ],
          "name": "stdout"
        }
      ]
    },
    {
      "cell_type": "code",
      "metadata": {
        "id": "hilAtz6W4N9u",
        "colab_type": "code",
        "outputId": "661033ab-f884-4e27-f828-0dcc32729d17",
        "colab": {
          "base_uri": "https://localhost:8080/",
          "height": 52
        }
      },
      "source": [
        "%cd test-data-visualization/\n",
        "!ls"
      ],
      "execution_count": 0,
      "outputs": [
        {
          "output_type": "stream",
          "text": [
            "/content/seaborn-data-visualization\n",
            "Github_GOOGLEColab.ipynb  index.html  README.md\n"
          ],
          "name": "stdout"
        }
      ]
    },
    {
      "cell_type": "code",
      "metadata": {
        "id": "y4FcX8Do4Sn4",
        "colab_type": "code",
        "outputId": "7af8c3c7-4ee2-44a6-df92-4ac99d266011",
        "colab": {
          "base_uri": "https://localhost:8080/",
          "height": 70
        }
      },
      "source": [
        "#jupyter nbconvert --to <output format> <filename.ipynb>\n",
        "!jupyter nbconvert --to html Github-GoogleDrive-GoogleColab.ipynb\n",
        "!ls"
      ],
      "execution_count": 0,
      "outputs": [
        {
          "output_type": "stream",
          "text": [
            "[NbConvertApp] Converting notebook Github_GOOGLEColab.ipynb to html\n",
            "[NbConvertApp] Writing 274084 bytes to Github_GOOGLEColab.html\n",
            "Github_GOOGLEColab.html  Github_GOOGLEColab.ipynb  index.html  README.md\n"
          ],
          "name": "stdout"
        }
      ]
    },
    {
      "cell_type": "code",
      "metadata": {
        "id": "t3fyIWSYEVDT",
        "colab_type": "code",
        "colab": {
          "base_uri": "https://localhost:8080/",
          "height": 235
        },
        "outputId": "e2fafe4b-1460-4e83-fb5e-03e764bb282c"
      },
      "source": [
        "#jupyter nbconvert --to <output format> <filename.ipynb>\n",
        "!jupyter nbconvert --to pdf Github-GoogleDrive-GoogleColab.ipynb \n",
        "!ls"
      ],
      "execution_count": 6,
      "outputs": [
        {
          "output_type": "stream",
          "text": [
            "[NbConvertApp] Converting notebook Github-GoogleDrive-GoogleColab.ipynb to pdf\n",
            "[NbConvertApp] Writing 26063 bytes to ./notebook.tex\n",
            "[NbConvertApp] Building PDF\n",
            "[NbConvertApp] Running xelatex 3 times: [u'xelatex', u'./notebook.tex', '-quiet']\n",
            "[NbConvertApp] Running bibtex 1 time: [u'bibtex', u'./notebook']\n",
            "[NbConvertApp] WARNING | bibtex had problems, most likely because there were no citations\n",
            "[NbConvertApp] PDF successfully created\n",
            "[NbConvertApp] Writing 30462 bytes to Github-GoogleDrive-GoogleColab.pdf\n",
            "Github-GoogleDrive-GoogleColab.ipynb  Pandas-Esercizio-Soluzione.ipynb\n",
            "Github-GoogleDrive-GoogleColab.pdf    Pandas-Esercizio-Soluzione.pdf\n",
            "Github.ipynb\t\t\t      Seaborn-Esercizio.ipynb\n",
            "index.html\t\t\t      Seaborn.ipynb\n"
          ],
          "name": "stdout"
        }
      ]
    },
    {
      "cell_type": "markdown",
      "metadata": {
        "id": "efodPTLPjyqv",
        "colab_type": "text"
      },
      "source": [
        "## Convertire un notebook (ipynb) contenuto in un repository GOOGLE DRIVE in html"
      ]
    },
    {
      "cell_type": "code",
      "metadata": {
        "id": "-u2gM9i2kEue",
        "colab_type": "code",
        "outputId": "b3a464e3-d71b-4e47-80a2-5e0254c36462",
        "colab": {
          "base_uri": "https://localhost:8080/",
          "height": 34
        }
      },
      "source": [
        "from google.colab import drive\n",
        "drive.mount('/content/gdrive')"
      ],
      "execution_count": 0,
      "outputs": [
        {
          "output_type": "stream",
          "text": [
            "Drive already mounted at /content/gdrive; to attempt to forcibly remount, call drive.mount(\"/content/gdrive\", force_remount=True).\n"
          ],
          "name": "stdout"
        }
      ]
    },
    {
      "cell_type": "code",
      "metadata": {
        "id": "9P5l2tgEkEtq",
        "colab_type": "code",
        "outputId": "87a4f957-84e4-4381-c1a1-bcff78b61d07",
        "colab": {
          "base_uri": "https://localhost:8080/",
          "height": 90
        }
      },
      "source": [
        "%cd /content/drive/My Drive/Colab Notebooks/_Manuel_DataVisualization\n",
        "!ls"
      ],
      "execution_count": 3,
      "outputs": [
        {
          "output_type": "stream",
          "text": [
            "/content/drive/My Drive/Colab Notebooks/_Manuel_DataVisualization\n",
            "Github-GoogleDrive-GoogleColab.ipynb  Pandas-Esercizio-Soluzione.ipynb\n",
            "Github.ipynb\t\t\t      Seaborn-Esercizio.ipynb\n",
            "index.html\t\t\t      Seaborn.ipynb\n"
          ],
          "name": "stdout"
        }
      ]
    },
    {
      "cell_type": "code",
      "metadata": {
        "id": "SExz6-2bkzab",
        "colab_type": "code",
        "outputId": "23e592ef-24cd-4d85-cd08-5d2125c439d1",
        "colab": {
          "base_uri": "https://localhost:8080/",
          "height": 105
        }
      },
      "source": [
        "#jupyter nbconvert --to <output format> <filename.ipynb>\n",
        "!jupyter nbconvert --to html Pandas-Esercizio-Soluzione.ipynb --output index.html\n",
        "!ls"
      ],
      "execution_count": 0,
      "outputs": [
        {
          "output_type": "stream",
          "text": [
            "[NbConvertApp] Converting notebook Pandas-Esercizio-Soluzione.ipynb to html\n",
            "[NbConvertApp] Writing 553812 bytes to index.html\n",
            "Github-GoogleDrive-GoogleColab.ipynb  Pandas-Esercizio-Soluzione.ipynb\n",
            "Github.ipynb\t\t\t      Seaborn-Esercizio.ipynb\n",
            "index.html\t\t\t      Seaborn.ipynb\n"
          ],
          "name": "stdout"
        }
      ]
    },
    {
      "cell_type": "code",
      "metadata": {
        "id": "Iaf6d4pnD-jZ",
        "colab_type": "code",
        "colab": {
          "base_uri": "https://localhost:8080/",
          "height": 290
        },
        "outputId": "2601f546-af52-49e8-dbd3-1514d0e7bc73"
      },
      "source": [
        "#jupyter nbconvert --to <output format> <filename.ipynb>\n",
        "!jupyter nbconvert --to pdf Pandas-Esercizio-Soluzione.ipynb \n",
        "!ls"
      ],
      "execution_count": 4,
      "outputs": [
        {
          "output_type": "stream",
          "text": [
            "[NbConvertApp] Converting notebook Pandas-Esercizio-Soluzione.ipynb to pdf\n",
            "[NbConvertApp] Support files will be in Pandas-Esercizio-Soluzione_files/\n",
            "[NbConvertApp] Making directory ./Pandas-Esercizio-Soluzione_files\n",
            "[NbConvertApp] Making directory ./Pandas-Esercizio-Soluzione_files\n",
            "[NbConvertApp] Writing 46438 bytes to ./notebook.tex\n",
            "[NbConvertApp] Building PDF\n",
            "[NbConvertApp] Running xelatex 3 times: [u'xelatex', u'./notebook.tex', '-quiet']\n",
            "[NbConvertApp] Running bibtex 1 time: [u'bibtex', u'./notebook']\n",
            "[NbConvertApp] WARNING | bibtex had problems, most likely because there were no citations\n",
            "[NbConvertApp] PDF successfully created\n",
            "[NbConvertApp] Writing 158478 bytes to Pandas-Esercizio-Soluzione.pdf\n",
            "Github-GoogleDrive-GoogleColab.ipynb  Pandas-Esercizio-Soluzione.pdf\n",
            "Github.ipynb\t\t\t      Seaborn-Esercizio.ipynb\n",
            "index.html\t\t\t      Seaborn.ipynb\n",
            "Pandas-Esercizio-Soluzione.ipynb\n"
          ],
          "name": "stdout"
        }
      ]
    },
    {
      "cell_type": "code",
      "metadata": {
        "id": "6E20AyFJordk",
        "colab_type": "code",
        "colab": {}
      },
      "source": [
        ""
      ],
      "execution_count": 0,
      "outputs": []
    }
  ]
}