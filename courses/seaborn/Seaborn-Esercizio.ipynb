{
  "nbformat": 4,
  "nbformat_minor": 0,
  "metadata": {
    "colab": {
      "name": "Seaborn-Esercizio.ipynb",
      "provenance": [],
      "collapsed_sections": [],
      "authorship_tag": "ABX9TyN9saBF+USHSefXXDTbssOJ",
      "include_colab_link": true
    },
    "kernelspec": {
      "name": "python3",
      "display_name": "Python 3"
    }
  },
  "cells": [
    {
      "cell_type": "markdown",
      "metadata": {
        "id": "view-in-github",
        "colab_type": "text"
      },
      "source": [
        "<a href=\"https://colab.research.google.com/github/visiont3lab/data-visualization/blob/master/courses/seaborn/Seaborn-Esercizio.ipynb\" target=\"_parent\"><img src=\"https://colab.research.google.com/assets/colab-badge.svg\" alt=\"Open In Colab\"/></a>"
      ]
    },
    {
      "cell_type": "markdown",
      "metadata": {
        "id": "kSSG64SflxWZ",
        "colab_type": "text"
      },
      "source": [
        "# Seaborn Analisi dataset e presentazione web usando Github"
      ]
    },
    {
      "cell_type": "code",
      "metadata": {
        "id": "44Eb-Hz1l2ZB",
        "colab_type": "code",
        "outputId": "7954703a-4d4c-4d07-b3b5-f151984e2953",
        "colab": {
          "base_uri": "https://localhost:8080/",
          "height": 72
        }
      },
      "source": [
        "import seaborn as sns\n",
        "import pandas as pd"
      ],
      "execution_count": 0,
      "outputs": [
        {
          "output_type": "stream",
          "text": [
            "/usr/local/lib/python3.6/dist-packages/statsmodels/tools/_testing.py:19: FutureWarning: pandas.util.testing is deprecated. Use the functions in the public API at pandas.testing instead.\n",
            "  import pandas.util.testing as tm\n"
          ],
          "name": "stderr"
        }
      ]
    },
    {
      "cell_type": "code",
      "metadata": {
        "id": "vnigYWorlmlS",
        "colab_type": "code",
        "colab": {}
      },
      "source": [
        "# Dati andamento nazionale\n",
        "df_nazione = pd.read_csv(\"https://raw.githubusercontent.com/pcm-dpc/COVID-19/master/dati-andamento-nazionale/dpc-covid19-ita-andamento-nazionale.csv\")\n",
        "df_nazione[\"data\"] = pd.to_datetime(df_nazione[\"data\"]).dt.date\n",
        "\n",
        "# Dati regionali\n",
        "df_regioni = pd.read_csv(\"https://raw.githubusercontent.com/pcm-dpc/COVID-19/master/dati-regioni/dpc-covid19-ita-regioni.csv\")\n",
        "df_regioni[\"data\"] = pd.to_datetime(df_regioni[\"data\"]).dt.date\n",
        "\n",
        "# Dati provinciali\n",
        "df_province = pd.read_csv(\"https://raw.githubusercontent.com/pcm-dpc/COVID-19/master/dati-province/dpc-covid19-ita-province.csv\")\n",
        "df_province[\"data\"] = pd.to_datetime(df_province[\"data\"]).dt.date"
      ],
      "execution_count": 0,
      "outputs": []
    }
  ]
}